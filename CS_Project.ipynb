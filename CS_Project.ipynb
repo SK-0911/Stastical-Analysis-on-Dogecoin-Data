{
  "nbformat": 4,
  "nbformat_minor": 0,
  "metadata": {
    "colab": {
      "name": "CS Project.ipynb",
      "provenance": [],
      "authorship_tag": "ABX9TyN/cuPqs7GrEkC6HSq5+m4u",
      "include_colab_link": true
    },
    "kernelspec": {
      "display_name": "Python 3",
      "name": "python3"
    },
    "language_info": {
      "name": "python"
    }
  },
  "cells": [
    {
      "cell_type": "markdown",
      "metadata": {
        "id": "view-in-github",
        "colab_type": "text"
      },
      "source": [
        "<a href=\"https://colab.research.google.com/github/SK-0911/Stastical-Analysis-on-Dogecoin-Data/blob/main/CS_Project.ipynb\" target=\"_parent\"><img src=\"https://colab.research.google.com/assets/colab-badge.svg\" alt=\"Open In Colab\"/></a>"
      ]
    },
    {
      "cell_type": "markdown",
      "metadata": {
        "id": "LoMd5ssAqGlP"
      },
      "source": [
        "# Dataset"
      ]
    },
    {
      "cell_type": "code",
      "metadata": {
        "colab": {
          "resources": {
            "http://localhost:8080/nbextensions/google.colab/files.js": {
              "data": "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",
              "ok": true,
              "headers": [
                [
                  "content-type",
                  "application/javascript"
                ]
              ],
              "status": 200,
              "status_text": ""
            }
          },
          "base_uri": "https://localhost:8080/",
          "height": 72
        },
        "id": "qy5I0ASRqBMe",
        "outputId": "f1b682e2-1679-4c50-8437-10d988440ce9"
      },
      "source": [
        "from google.colab import files\n",
        "  \n",
        "  \n",
        "uploaded = files.upload()\n"
      ],
      "execution_count": null,
      "outputs": [
        {
          "output_type": "display_data",
          "data": {
            "text/html": [
              "\n",
              "     <input type=\"file\" id=\"files-f77ce8a3-43b9-40cb-9d86-b5ec32c07998\" name=\"files[]\" multiple disabled\n",
              "        style=\"border:none\" />\n",
              "     <output id=\"result-f77ce8a3-43b9-40cb-9d86-b5ec32c07998\">\n",
              "      Upload widget is only available when the cell has been executed in the\n",
              "      current browser session. Please rerun this cell to enable.\n",
              "      </output>\n",
              "      <script src=\"/nbextensions/google.colab/files.js\"></script> "
            ],
            "text/plain": [
              "<IPython.core.display.HTML object>"
            ]
          },
          "metadata": {}
        },
        {
          "output_type": "stream",
          "name": "stdout",
          "text": [
            "Saving doge.csv to doge (1).csv\n"
          ]
        }
      ]
    },
    {
      "cell_type": "markdown",
      "metadata": {
        "id": "men8ENe5HwEs"
      },
      "source": [
        "### Installing missing packages"
      ]
    },
    {
      "cell_type": "code",
      "metadata": {
        "colab": {
          "base_uri": "https://localhost:8080/"
        },
        "id": "blNercVXHmT5",
        "outputId": "c85bd958-d1a5-434a-c2c0-928d800e0835"
      },
      "source": [
        "pip install factor_analyzer"
      ],
      "execution_count": null,
      "outputs": [
        {
          "output_type": "stream",
          "name": "stdout",
          "text": [
            "Requirement already satisfied: factor_analyzer in /usr/local/lib/python3.7/dist-packages (0.4.0)\n",
            "Requirement already satisfied: scipy in /usr/local/lib/python3.7/dist-packages (from factor_analyzer) (1.4.1)\n",
            "Requirement already satisfied: numpy in /usr/local/lib/python3.7/dist-packages (from factor_analyzer) (1.19.5)\n",
            "Requirement already satisfied: scikit-learn in /usr/local/lib/python3.7/dist-packages (from factor_analyzer) (0.22.2.post1)\n",
            "Requirement already satisfied: pandas in /usr/local/lib/python3.7/dist-packages (from factor_analyzer) (1.1.5)\n",
            "Requirement already satisfied: pytz>=2017.2 in /usr/local/lib/python3.7/dist-packages (from pandas->factor_analyzer) (2018.9)\n",
            "Requirement already satisfied: python-dateutil>=2.7.3 in /usr/local/lib/python3.7/dist-packages (from pandas->factor_analyzer) (2.8.2)\n",
            "Requirement already satisfied: six>=1.5 in /usr/local/lib/python3.7/dist-packages (from python-dateutil>=2.7.3->pandas->factor_analyzer) (1.15.0)\n",
            "Requirement already satisfied: joblib>=0.11 in /usr/local/lib/python3.7/dist-packages (from scikit-learn->factor_analyzer) (1.0.1)\n"
          ]
        }
      ]
    },
    {
      "cell_type": "markdown",
      "metadata": {
        "id": "Ttfz7bz9iUW3"
      },
      "source": [
        "# Imports\n"
      ]
    },
    {
      "cell_type": "code",
      "metadata": {
        "id": "h45zltAU2oN2"
      },
      "source": [
        "import numpy as np\n",
        "import pandas as pd\n",
        "import seaborn    #For data visualization\n",
        "import matplotlib.pyplot as plt\n",
        "from matplotlib import pyplot     #For time series\n",
        "import seaborn as sns\n",
        "import scipy.cluster.hierarchy as sch     #For Hierarchical cluster analysis\n",
        "from pandas import Series\n",
        "from yellowbrick.regressor import ResidualsPlot\n",
        "from sklearn.preprocessing import StandardScaler, LabelEncoder, OneHotEncoder\n",
        "from sklearn.model_selection import train_test_split\n",
        "from sklearn.linear_model import LinearRegression\n",
        "from sklearn.tree import DecisionTreeRegressor\n",
        "from sklearn.ensemble import RandomForestRegressor\n",
        "from sklearn.metrics import mean_absolute_error,mean_squared_error,r2_score\n",
        "from sklearn.datasets import make_blobs\n",
        "from sklearn.cluster import AgglomerativeClustering\n",
        "from factor_analyzer import FactorAnalyzer\n",
        "from factor_analyzer.factor_analyzer import calculate_kmo\n",
        "import warnings\n",
        "warnings.filterwarnings('ignore')\n",
        "import missingno as msno\n",
        "%matplotlib inline    "
      ],
      "execution_count": null,
      "outputs": []
    },
    {
      "cell_type": "code",
      "metadata": {
        "id": "0o9Scx6isXFF"
      },
      "source": [
        "ds = pd.read_csv('doge.csv')  #ds is dataset"
      ],
      "execution_count": null,
      "outputs": []
    },
    {
      "cell_type": "code",
      "metadata": {
        "colab": {
          "base_uri": "https://localhost:8080/",
          "height": 204
        },
        "id": "q0C7W0ztsltE",
        "outputId": "29da0f7e-587a-47e6-92b8-f2a48a37b0ff"
      },
      "source": [
        "ds.head()   #Shows first 5 rows of the dataset"
      ],
      "execution_count": null,
      "outputs": [
        {
          "output_type": "execute_result",
          "data": {
            "text/html": [
              "<div>\n",
              "<style scoped>\n",
              "    .dataframe tbody tr th:only-of-type {\n",
              "        vertical-align: middle;\n",
              "    }\n",
              "\n",
              "    .dataframe tbody tr th {\n",
              "        vertical-align: top;\n",
              "    }\n",
              "\n",
              "    .dataframe thead th {\n",
              "        text-align: right;\n",
              "    }\n",
              "</style>\n",
              "<table border=\"1\" class=\"dataframe\">\n",
              "  <thead>\n",
              "    <tr style=\"text-align: right;\">\n",
              "      <th></th>\n",
              "      <th>Date</th>\n",
              "      <th>Open</th>\n",
              "      <th>High</th>\n",
              "      <th>Low</th>\n",
              "      <th>Close</th>\n",
              "      <th>Adj Close</th>\n",
              "      <th>Volume</th>\n",
              "    </tr>\n",
              "  </thead>\n",
              "  <tbody>\n",
              "    <tr>\n",
              "      <th>0</th>\n",
              "      <td>2014-09-17</td>\n",
              "      <td>0.000293</td>\n",
              "      <td>0.000299</td>\n",
              "      <td>0.000260</td>\n",
              "      <td>0.000268</td>\n",
              "      <td>0.000268</td>\n",
              "      <td>1463600.0</td>\n",
              "    </tr>\n",
              "    <tr>\n",
              "      <th>1</th>\n",
              "      <td>2014-09-18</td>\n",
              "      <td>0.000268</td>\n",
              "      <td>0.000325</td>\n",
              "      <td>0.000267</td>\n",
              "      <td>0.000298</td>\n",
              "      <td>0.000298</td>\n",
              "      <td>2215910.0</td>\n",
              "    </tr>\n",
              "    <tr>\n",
              "      <th>2</th>\n",
              "      <td>2014-09-19</td>\n",
              "      <td>0.000298</td>\n",
              "      <td>0.000307</td>\n",
              "      <td>0.000275</td>\n",
              "      <td>0.000277</td>\n",
              "      <td>0.000277</td>\n",
              "      <td>883563.0</td>\n",
              "    </tr>\n",
              "    <tr>\n",
              "      <th>3</th>\n",
              "      <td>2014-09-20</td>\n",
              "      <td>0.000276</td>\n",
              "      <td>0.000310</td>\n",
              "      <td>0.000267</td>\n",
              "      <td>0.000292</td>\n",
              "      <td>0.000292</td>\n",
              "      <td>993004.0</td>\n",
              "    </tr>\n",
              "    <tr>\n",
              "      <th>4</th>\n",
              "      <td>2014-09-21</td>\n",
              "      <td>0.000293</td>\n",
              "      <td>0.000299</td>\n",
              "      <td>0.000284</td>\n",
              "      <td>0.000288</td>\n",
              "      <td>0.000288</td>\n",
              "      <td>539140.0</td>\n",
              "    </tr>\n",
              "  </tbody>\n",
              "</table>\n",
              "</div>"
            ],
            "text/plain": [
              "         Date      Open      High       Low     Close  Adj Close     Volume\n",
              "0  2014-09-17  0.000293  0.000299  0.000260  0.000268   0.000268  1463600.0\n",
              "1  2014-09-18  0.000268  0.000325  0.000267  0.000298   0.000298  2215910.0\n",
              "2  2014-09-19  0.000298  0.000307  0.000275  0.000277   0.000277   883563.0\n",
              "3  2014-09-20  0.000276  0.000310  0.000267  0.000292   0.000292   993004.0\n",
              "4  2014-09-21  0.000293  0.000299  0.000284  0.000288   0.000288   539140.0"
            ]
          },
          "metadata": {},
          "execution_count": 104
        }
      ]
    },
    {
      "cell_type": "code",
      "metadata": {
        "colab": {
          "base_uri": "https://localhost:8080/",
          "height": 204
        },
        "id": "rCpRj7HNIU2H",
        "outputId": "b2da3b38-e3bd-49ad-bffb-7ea1faa96fa0"
      },
      "source": [
        "ds.tail()   #Shows last 5 rows of the dataset"
      ],
      "execution_count": null,
      "outputs": [
        {
          "output_type": "execute_result",
          "data": {
            "text/html": [
              "<div>\n",
              "<style scoped>\n",
              "    .dataframe tbody tr th:only-of-type {\n",
              "        vertical-align: middle;\n",
              "    }\n",
              "\n",
              "    .dataframe tbody tr th {\n",
              "        vertical-align: top;\n",
              "    }\n",
              "\n",
              "    .dataframe thead th {\n",
              "        text-align: right;\n",
              "    }\n",
              "</style>\n",
              "<table border=\"1\" class=\"dataframe\">\n",
              "  <thead>\n",
              "    <tr style=\"text-align: right;\">\n",
              "      <th></th>\n",
              "      <th>Date</th>\n",
              "      <th>Open</th>\n",
              "      <th>High</th>\n",
              "      <th>Low</th>\n",
              "      <th>Close</th>\n",
              "      <th>Adj Close</th>\n",
              "      <th>Volume</th>\n",
              "    </tr>\n",
              "  </thead>\n",
              "  <tbody>\n",
              "    <tr>\n",
              "      <th>2557</th>\n",
              "      <td>2021-09-17</td>\n",
              "      <td>0.242098</td>\n",
              "      <td>0.259535</td>\n",
              "      <td>0.238026</td>\n",
              "      <td>0.239930</td>\n",
              "      <td>0.239930</td>\n",
              "      <td>2.246768e+09</td>\n",
              "    </tr>\n",
              "    <tr>\n",
              "      <th>2558</th>\n",
              "      <td>2021-09-18</td>\n",
              "      <td>0.239928</td>\n",
              "      <td>0.247328</td>\n",
              "      <td>0.238228</td>\n",
              "      <td>0.241386</td>\n",
              "      <td>0.241386</td>\n",
              "      <td>9.991515e+08</td>\n",
              "    </tr>\n",
              "    <tr>\n",
              "      <th>2559</th>\n",
              "      <td>2021-09-19</td>\n",
              "      <td>0.241281</td>\n",
              "      <td>0.241285</td>\n",
              "      <td>0.231337</td>\n",
              "      <td>0.233142</td>\n",
              "      <td>0.233142</td>\n",
              "      <td>8.927640e+08</td>\n",
              "    </tr>\n",
              "    <tr>\n",
              "      <th>2560</th>\n",
              "      <td>2021-09-20</td>\n",
              "      <td>0.233161</td>\n",
              "      <td>0.233606</td>\n",
              "      <td>0.200022</td>\n",
              "      <td>0.207071</td>\n",
              "      <td>0.207071</td>\n",
              "      <td>2.244004e+09</td>\n",
              "    </tr>\n",
              "    <tr>\n",
              "      <th>2561</th>\n",
              "      <td>2021-09-21</td>\n",
              "      <td>0.208235</td>\n",
              "      <td>0.217508</td>\n",
              "      <td>0.199987</td>\n",
              "      <td>0.206951</td>\n",
              "      <td>0.206951</td>\n",
              "      <td>1.567924e+09</td>\n",
              "    </tr>\n",
              "  </tbody>\n",
              "</table>\n",
              "</div>"
            ],
            "text/plain": [
              "            Date      Open      High  ...     Close  Adj Close        Volume\n",
              "2557  2021-09-17  0.242098  0.259535  ...  0.239930   0.239930  2.246768e+09\n",
              "2558  2021-09-18  0.239928  0.247328  ...  0.241386   0.241386  9.991515e+08\n",
              "2559  2021-09-19  0.241281  0.241285  ...  0.233142   0.233142  8.927640e+08\n",
              "2560  2021-09-20  0.233161  0.233606  ...  0.207071   0.207071  2.244004e+09\n",
              "2561  2021-09-21  0.208235  0.217508  ...  0.206951   0.206951  1.567924e+09\n",
              "\n",
              "[5 rows x 7 columns]"
            ]
          },
          "metadata": {},
          "execution_count": 105
        }
      ]
    },
    {
      "cell_type": "markdown",
      "metadata": {
        "id": "bWtIQpS7tVL5"
      },
      "source": [
        "# Information about the dataset\n"
      ]
    },
    {
      "cell_type": "code",
      "metadata": {
        "colab": {
          "base_uri": "https://localhost:8080/"
        },
        "id": "nARJV_g1tP8L",
        "outputId": "8f2f53d8-42de-4c8b-876c-9f12c3003ea4"
      },
      "source": [
        "print(f'Dimension of Dataframe {ds.shape}') #rows = 2562, columns = 7"
      ],
      "execution_count": null,
      "outputs": [
        {
          "output_type": "stream",
          "name": "stdout",
          "text": [
            "Dimension of Dataframe (2562, 7)\n"
          ]
        }
      ]
    },
    {
      "cell_type": "code",
      "metadata": {
        "colab": {
          "base_uri": "https://localhost:8080/",
          "height": 297
        },
        "id": "aaf68FhztcbC",
        "outputId": "c4bbf827-0f5f-4a38-97c2-eae4db46d1da"
      },
      "source": [
        "ds.describe()"
      ],
      "execution_count": null,
      "outputs": [
        {
          "output_type": "execute_result",
          "data": {
            "text/html": [
              "<div>\n",
              "<style scoped>\n",
              "    .dataframe tbody tr th:only-of-type {\n",
              "        vertical-align: middle;\n",
              "    }\n",
              "\n",
              "    .dataframe tbody tr th {\n",
              "        vertical-align: top;\n",
              "    }\n",
              "\n",
              "    .dataframe thead th {\n",
              "        text-align: right;\n",
              "    }\n",
              "</style>\n",
              "<table border=\"1\" class=\"dataframe\">\n",
              "  <thead>\n",
              "    <tr style=\"text-align: right;\">\n",
              "      <th></th>\n",
              "      <th>Open</th>\n",
              "      <th>High</th>\n",
              "      <th>Low</th>\n",
              "      <th>Close</th>\n",
              "      <th>Adj Close</th>\n",
              "      <th>Volume</th>\n",
              "    </tr>\n",
              "  </thead>\n",
              "  <tbody>\n",
              "    <tr>\n",
              "      <th>count</th>\n",
              "      <td>2558.000000</td>\n",
              "      <td>2558.000000</td>\n",
              "      <td>2558.000000</td>\n",
              "      <td>2558.000000</td>\n",
              "      <td>2558.000000</td>\n",
              "      <td>2.558000e+03</td>\n",
              "    </tr>\n",
              "    <tr>\n",
              "      <th>mean</th>\n",
              "      <td>0.022053</td>\n",
              "      <td>0.023778</td>\n",
              "      <td>0.020379</td>\n",
              "      <td>0.022137</td>\n",
              "      <td>0.022137</td>\n",
              "      <td>5.377136e+08</td>\n",
              "    </tr>\n",
              "    <tr>\n",
              "      <th>std</th>\n",
              "      <td>0.075989</td>\n",
              "      <td>0.082882</td>\n",
              "      <td>0.069197</td>\n",
              "      <td>0.076145</td>\n",
              "      <td>0.076145</td>\n",
              "      <td>2.939793e+09</td>\n",
              "    </tr>\n",
              "    <tr>\n",
              "      <th>min</th>\n",
              "      <td>0.000087</td>\n",
              "      <td>0.000089</td>\n",
              "      <td>0.000085</td>\n",
              "      <td>0.000087</td>\n",
              "      <td>0.000087</td>\n",
              "      <td>1.669500e+04</td>\n",
              "    </tr>\n",
              "    <tr>\n",
              "      <th>25%</th>\n",
              "      <td>0.000227</td>\n",
              "      <td>0.000232</td>\n",
              "      <td>0.000223</td>\n",
              "      <td>0.000227</td>\n",
              "      <td>0.000227</td>\n",
              "      <td>2.545335e+05</td>\n",
              "    </tr>\n",
              "    <tr>\n",
              "      <th>50%</th>\n",
              "      <td>0.002173</td>\n",
              "      <td>0.002239</td>\n",
              "      <td>0.002088</td>\n",
              "      <td>0.002172</td>\n",
              "      <td>0.002172</td>\n",
              "      <td>1.180531e+07</td>\n",
              "    </tr>\n",
              "    <tr>\n",
              "      <th>75%</th>\n",
              "      <td>0.003222</td>\n",
              "      <td>0.003325</td>\n",
              "      <td>0.003110</td>\n",
              "      <td>0.003226</td>\n",
              "      <td>0.003226</td>\n",
              "      <td>6.673909e+07</td>\n",
              "    </tr>\n",
              "    <tr>\n",
              "      <th>max</th>\n",
              "      <td>0.687801</td>\n",
              "      <td>0.737567</td>\n",
              "      <td>0.608168</td>\n",
              "      <td>0.684777</td>\n",
              "      <td>0.684777</td>\n",
              "      <td>6.941068e+10</td>\n",
              "    </tr>\n",
              "  </tbody>\n",
              "</table>\n",
              "</div>"
            ],
            "text/plain": [
              "              Open         High  ...    Adj Close        Volume\n",
              "count  2558.000000  2558.000000  ...  2558.000000  2.558000e+03\n",
              "mean      0.022053     0.023778  ...     0.022137  5.377136e+08\n",
              "std       0.075989     0.082882  ...     0.076145  2.939793e+09\n",
              "min       0.000087     0.000089  ...     0.000087  1.669500e+04\n",
              "25%       0.000227     0.000232  ...     0.000227  2.545335e+05\n",
              "50%       0.002173     0.002239  ...     0.002172  1.180531e+07\n",
              "75%       0.003222     0.003325  ...     0.003226  6.673909e+07\n",
              "max       0.687801     0.737567  ...     0.684777  6.941068e+10\n",
              "\n",
              "[8 rows x 6 columns]"
            ]
          },
          "metadata": {},
          "execution_count": 107
        }
      ]
    },
    {
      "cell_type": "code",
      "metadata": {
        "colab": {
          "base_uri": "https://localhost:8080/"
        },
        "id": "FNwKc65Vt-0f",
        "outputId": "364dfe51-26cf-4fd1-891c-3380fa87ede8"
      },
      "source": [
        "ds.info()"
      ],
      "execution_count": null,
      "outputs": [
        {
          "output_type": "stream",
          "name": "stdout",
          "text": [
            "<class 'pandas.core.frame.DataFrame'>\n",
            "RangeIndex: 2562 entries, 0 to 2561\n",
            "Data columns (total 7 columns):\n",
            " #   Column     Non-Null Count  Dtype  \n",
            "---  ------     --------------  -----  \n",
            " 0   Date       2562 non-null   object \n",
            " 1   Open       2558 non-null   float64\n",
            " 2   High       2558 non-null   float64\n",
            " 3   Low        2558 non-null   float64\n",
            " 4   Close      2558 non-null   float64\n",
            " 5   Adj Close  2558 non-null   float64\n",
            " 6   Volume     2558 non-null   float64\n",
            "dtypes: float64(6), object(1)\n",
            "memory usage: 140.2+ KB\n"
          ]
        }
      ]
    },
    {
      "cell_type": "markdown",
      "metadata": {
        "id": "k2nXSdI4vJOR"
      },
      "source": [
        "Check for null values"
      ]
    },
    {
      "cell_type": "code",
      "metadata": {
        "colab": {
          "base_uri": "https://localhost:8080/"
        },
        "id": "i0dCiiROQwFw",
        "outputId": "c694bfb3-1642-4ed0-bba9-cac750b7b92f"
      },
      "source": [
        "ds.isnull().values.any()"
      ],
      "execution_count": null,
      "outputs": [
        {
          "output_type": "execute_result",
          "data": {
            "text/plain": [
              "True"
            ]
          },
          "metadata": {},
          "execution_count": 109
        }
      ]
    },
    {
      "cell_type": "markdown",
      "metadata": {
        "id": "NScpAHT1Q2Nk"
      },
      "source": [
        "That means we do have null values in our dataset"
      ]
    },
    {
      "cell_type": "code",
      "metadata": {
        "colab": {
          "base_uri": "https://localhost:8080/"
        },
        "id": "7wvW5JJ4uJ_1",
        "outputId": "4a138e7b-f81d-4d24-decb-caf073b5c573"
      },
      "source": [
        "ds.isnull().sum()"
      ],
      "execution_count": null,
      "outputs": [
        {
          "output_type": "execute_result",
          "data": {
            "text/plain": [
              "Date         0\n",
              "Open         4\n",
              "High         4\n",
              "Low          4\n",
              "Close        4\n",
              "Adj Close    4\n",
              "Volume       4\n",
              "dtype: int64"
            ]
          },
          "metadata": {},
          "execution_count": 110
        }
      ]
    },
    {
      "cell_type": "code",
      "metadata": {
        "id": "Jyy1Ab-3sVGY"
      },
      "source": [
        "ds=ds.dropna()  #Dropping NA values"
      ],
      "execution_count": null,
      "outputs": []
    },
    {
      "cell_type": "code",
      "metadata": {
        "colab": {
          "base_uri": "https://localhost:8080/"
        },
        "id": "WW-xNvjqRI5i",
        "outputId": "a023cf1c-293a-47f3-a9e7-d5660b11b5b9"
      },
      "source": [
        "ds.isnull().values.any()"
      ],
      "execution_count": null,
      "outputs": [
        {
          "output_type": "execute_result",
          "data": {
            "text/plain": [
              "False"
            ]
          },
          "metadata": {},
          "execution_count": 112
        }
      ]
    },
    {
      "cell_type": "markdown",
      "metadata": {
        "id": "76RDMzGyROrd"
      },
      "source": [
        "NA values dropped successfully"
      ]
    },
    {
      "cell_type": "code",
      "metadata": {
        "colab": {
          "base_uri": "https://localhost:8080/"
        },
        "id": "Q1AtbzZvRFIE",
        "outputId": "44e888aa-90ea-41f1-d2a5-4d5f259ffdb8"
      },
      "source": [
        "ds.isnull().sum()"
      ],
      "execution_count": null,
      "outputs": [
        {
          "output_type": "execute_result",
          "data": {
            "text/plain": [
              "Date         0\n",
              "Open         0\n",
              "High         0\n",
              "Low          0\n",
              "Close        0\n",
              "Adj Close    0\n",
              "Volume       0\n",
              "dtype: int64"
            ]
          },
          "metadata": {},
          "execution_count": 113
        }
      ]
    },
    {
      "cell_type": "code",
      "metadata": {
        "colab": {
          "base_uri": "https://localhost:8080/"
        },
        "id": "OVVvdpMeuMsB",
        "outputId": "32faec32-8156-4c73-d88f-a79287c5eb42"
      },
      "source": [
        "ds.info()"
      ],
      "execution_count": null,
      "outputs": [
        {
          "output_type": "stream",
          "name": "stdout",
          "text": [
            "<class 'pandas.core.frame.DataFrame'>\n",
            "Int64Index: 2558 entries, 0 to 2561\n",
            "Data columns (total 7 columns):\n",
            " #   Column     Non-Null Count  Dtype  \n",
            "---  ------     --------------  -----  \n",
            " 0   Date       2558 non-null   object \n",
            " 1   Open       2558 non-null   float64\n",
            " 2   High       2558 non-null   float64\n",
            " 3   Low        2558 non-null   float64\n",
            " 4   Close      2558 non-null   float64\n",
            " 5   Adj Close  2558 non-null   float64\n",
            " 6   Volume     2558 non-null   float64\n",
            "dtypes: float64(6), object(1)\n",
            "memory usage: 159.9+ KB\n"
          ]
        }
      ]
    },
    {
      "cell_type": "code",
      "metadata": {
        "colab": {
          "base_uri": "https://localhost:8080/"
        },
        "id": "elCK0pxAn7AO",
        "outputId": "b7c1ac57-e2de-43fe-ad63-189e3ff2c993"
      },
      "source": [
        "np.mean(ds)"
      ],
      "execution_count": null,
      "outputs": [
        {
          "output_type": "execute_result",
          "data": {
            "text/plain": [
              "Open         2.205291e-02\n",
              "High         2.377835e-02\n",
              "Low          2.037870e-02\n",
              "Close        2.213673e-02\n",
              "Adj Close    2.213673e-02\n",
              "Volume       5.377136e+08\n",
              "dtype: float64"
            ]
          },
          "metadata": {},
          "execution_count": 115
        }
      ]
    },
    {
      "cell_type": "code",
      "metadata": {
        "colab": {
          "base_uri": "https://localhost:8080/",
          "height": 1000
        },
        "id": "s5utDsHzdMfC",
        "outputId": "024a5c0c-1d8c-4cef-b767-b15ac8cd4a6f"
      },
      "source": [
        "sns.pairplot(ds.head())"
      ],
      "execution_count": null,
      "outputs": [
        {
          "output_type": "execute_result",
          "data": {
            "text/plain": [
              "<seaborn.axisgrid.PairGrid at 0x7f2452799690>"
            ]
          },
          "metadata": {},
          "execution_count": 117
        },
        {
          "output_type": "display_data",
          "data": {
            "image/png": "[encoded data removed]",
            "text/plain": [
              "<Figure size 1080x1080 with 42 Axes>"
            ]
          },
          "metadata": {
            "needs_background": "light"
          }
        }
      ]
    },
    {
      "cell_type": "code",
      "metadata": {
        "colab": {
          "base_uri": "https://localhost:8080/",
          "height": 1000
        },
        "id": "ldui17FHvHHE",
        "outputId": "577f528a-4299-461b-80f3-81410be04e3e"
      },
      "source": [
        "sns.pairplot(data=ds)"
      ],
      "execution_count": null,
      "outputs": [
        {
          "output_type": "execute_result",
          "data": {
            "text/plain": [
              "<seaborn.axisgrid.PairGrid at 0x7f245230af10>"
            ]
          },
          "metadata": {},
          "execution_count": 118
        },
        {
          "output_type": "display_data",
          "data": {
            "image/png": "[encoded data removed]",
            "text/plain": [
              "<Figure size 1080x1080 with 42 Axes>"
            ]
          },
          "metadata": {
            "needs_background": "light"
          }
        }
      ]
    },
    {
      "cell_type": "code",
      "metadata": {
        "colab": {
          "base_uri": "https://localhost:8080/",
          "height": 286
        },
        "id": "fPhj4ap12eJK",
        "outputId": "efd16a5b-024f-4b85-ccc6-83f15fc7e4af"
      },
      "source": [
        "corr= ds.corr()\n",
        "sns.heatmap(corr,annot=True)"
      ],
      "execution_count": null,
      "outputs": [
        {
          "output_type": "execute_result",
          "data": {
            "text/plain": [
              "<matplotlib.axes._subplots.AxesSubplot at 0x7f244cc3ded0>"
            ]
          },
          "metadata": {},
          "execution_count": 119
        },
        {
          "output_type": "display_data",
          "data": {
            "image/png": "[encoded data removed]",
            "text/plain": [
              "<Figure size 432x288 with 2 Axes>"
            ]
          },
          "metadata": {
            "needs_background": "light"
          }
        }
      ]
    },
    {
      "cell_type": "markdown",
      "metadata": {
        "id": "tEXmq5sPSWf3"
      },
      "source": [
        "### Here we see variables where correlation is very high i.e. 99%\n",
        "\n",
        "### Hence we can see the prescence of multicollinearity"
      ]
    },
    {
      "cell_type": "markdown",
      "metadata": {
        "id": "rGTRkVwFn2ft"
      },
      "source": [
        "# Simple Regression"
      ]
    },
    {
      "cell_type": "code",
      "metadata": {
        "colab": {
          "base_uri": "https://localhost:8080/"
        },
        "id": "kolve5lh8Wt7",
        "outputId": "04279d88-d40b-457b-f4b6-f5c61510c91c"
      },
      "source": [
        "X = np.array(ds['Adj Close'])\n",
        "X"
      ],
      "execution_count": null,
      "outputs": [
        {
          "output_type": "execute_result",
          "data": {
            "text/plain": [
              "array([0.000268, 0.000298, 0.000277, ..., 0.233142, 0.207071, 0.206951])"
            ]
          },
          "metadata": {},
          "execution_count": 131
        }
      ]
    },
    {
      "cell_type": "code",
      "metadata": {
        "colab": {
          "base_uri": "https://localhost:8080/"
        },
        "id": "8BqYeLQ2824g",
        "outputId": "6ca1f9de-4764-4ba3-90af-ad61ff0f36db"
      },
      "source": [
        "y = np.array(ds['Adj Close'])\n",
        "y"
      ],
      "execution_count": null,
      "outputs": [
        {
          "output_type": "execute_result",
          "data": {
            "text/plain": [
              "array([0.000268, 0.000298, 0.000277, ..., 0.233142, 0.207071, 0.206951])"
            ]
          },
          "metadata": {},
          "execution_count": 132
        }
      ]
    },
    {
      "cell_type": "code",
      "metadata": {
        "colab": {
          "base_uri": "https://localhost:8080/",
          "height": 296
        },
        "id": "4HwI5zbSPU0r",
        "outputId": "cd828a34-c09f-4665-8d25-406d415c4859"
      },
      "source": [
        "sns.regplot(data = ds, x= 'Close',y= 'Adj Close')"
      ],
      "execution_count": null,
      "outputs": [
        {
          "output_type": "execute_result",
          "data": {
            "text/plain": [
              "<matplotlib.axes._subplots.AxesSubplot at 0x7f244b3eeed0>"
            ]
          },
          "metadata": {},
          "execution_count": 133
        },
        {
          "output_type": "display_data",
          "data": {
            "image/png": "[encoded data removed]",
            "text/plain": [
              "<Figure size 432x288 with 1 Axes>"
            ]
          },
          "metadata": {
            "needs_background": "light"
          }
        }
      ]
    },
    {
      "cell_type": "markdown",
      "metadata": {
        "id": "-JqsaKUASTrc"
      },
      "source": [
        "## Split data\n",
        "\n",
        "\n",
        "We use the *train_test_split* method from *scikit-learn* to split our data. The test_size is used to tell it what percentage of the data to use for our testing data set and the random_state is used as a seed for the random splitting of the data. The seed will randomize the split in the same way each time for reproducability."
      ]
    },
    {
      "cell_type": "code",
      "metadata": {
        "id": "91VReVr6hLBd"
      },
      "source": [
        "X_train,X_test,y_train,y_test = train_test_split(X,y,test_size=0.2,random_state=1)\n"
      ],
      "execution_count": null,
      "outputs": []
    },
    {
      "cell_type": "code",
      "metadata": {
        "colab": {
          "base_uri": "https://localhost:8080/"
        },
        "id": "01XITXbrewiY",
        "outputId": "6c723bc7-b321-4542-b45d-92c4824ed949"
      },
      "source": [
        "print(f'shape of X_train : {X_train.shape}\\nshape of X_test : {X_test.shape}\\nshape of y_train : {y_train.shape}\\nshape of y_test : {y_test.shape}')"
      ],
      "execution_count": null,
      "outputs": [
        {
          "output_type": "stream",
          "name": "stdout",
          "text": [
            "shape of X_train : (2046,)\n",
            "shape of X_test : (512,)\n",
            "shape of y_train : (2046,)\n",
            "shape of y_test : (512,)\n"
          ]
        }
      ]
    },
    {
      "cell_type": "code",
      "metadata": {
        "colab": {
          "base_uri": "https://localhost:8080/"
        },
        "id": "DgBG-ZTd9MV_",
        "outputId": "0e14987c-f8f3-439e-8c14-deaef4c3646f"
      },
      "source": [
        "lin_reg = LinearRegression()\n",
        "X_train = X_train.reshape(-1,1)\n",
        "y_train = y_train.reshape(-1,1)\n",
        "lin_reg.fit(X_train, y_train)"
      ],
      "execution_count": null,
      "outputs": [
        {
          "output_type": "execute_result",
          "data": {
            "text/plain": [
              "LinearRegression(copy_X=True, fit_intercept=True, n_jobs=None, normalize=False)"
            ]
          },
          "metadata": {},
          "execution_count": 136
        }
      ]
    },
    {
      "cell_type": "code",
      "metadata": {
        "colab": {
          "base_uri": "https://localhost:8080/"
        },
        "id": "q3tnykQiPXXZ",
        "outputId": "f609321e-6a2e-4d1f-91f6-f1ee9744aa35"
      },
      "source": [
        "print(\"Coefficients: \", lin_reg.coef_)\n",
        "print(\"Intercept: \", lin_reg.intercept_)"
      ],
      "execution_count": null,
      "outputs": [
        {
          "output_type": "stream",
          "name": "stdout",
          "text": [
            "Coefficients:  [[1.]]\n",
            "Intercept:  [-1.73472348e-17]\n"
          ]
        }
      ]
    },
    {
      "cell_type": "code",
      "metadata": {
        "id": "XiVCBHRKkrKz"
      },
      "source": [
        "X_test = X_test.reshape(-1,1)\n",
        "y_pred = lin_reg.predict(X_test)\n",
        "\n",
        "#y_pred"
      ],
      "execution_count": null,
      "outputs": []
    },
    {
      "cell_type": "code",
      "metadata": {
        "colab": {
          "base_uri": "https://localhost:8080/"
        },
        "id": "TO07XyGf87lv",
        "outputId": "e9ff32e6-b228-4031-eb80-a62fbd1d7720"
      },
      "source": [
        "print(\"MAE : \",mean_absolute_error(y_test, y_pred))   # MAE = Avg of (True values – Predicted values)"
      ],
      "execution_count": null,
      "outputs": [
        {
          "output_type": "stream",
          "name": "stdout",
          "text": [
            "MAE :  2.3795008372945415e-17\n"
          ]
        }
      ]
    },
    {
      "cell_type": "code",
      "metadata": {
        "colab": {
          "base_uri": "https://localhost:8080/"
        },
        "id": "8Boh1PQil4fZ",
        "outputId": "6936b339-199c-4050-cd2f-46d40942c839"
      },
      "source": [
        "print(\"MSE : \",mean_squared_error(y_test,y_pred))"
      ],
      "execution_count": null,
      "outputs": [
        {
          "output_type": "stream",
          "name": "stdout",
          "text": [
            "MSE :  2.2205258010509348e-33\n"
          ]
        }
      ]
    },
    {
      "cell_type": "code",
      "metadata": {
        "colab": {
          "base_uri": "https://localhost:8080/"
        },
        "id": "_NPjOIzpmOPa",
        "outputId": "dc5f02eb-eeac-44b6-a045-c982a3e518af"
      },
      "source": [
        "print(\"Coefficient of Determination(R-squared value): \",r2_score(y_test,y_pred))"
      ],
      "execution_count": null,
      "outputs": [
        {
          "output_type": "stream",
          "name": "stdout",
          "text": [
            "Coefficient of Determination(R-squared value):  1.0\n"
          ]
        }
      ]
    },
    {
      "cell_type": "markdown",
      "metadata": {
        "id": "khua9YH_vDOD"
      },
      "source": [
        "# Multiple Regression\n"
      ]
    },
    {
      "cell_type": "code",
      "metadata": {
        "colab": {
          "base_uri": "https://localhost:8080/"
        },
        "id": "DX0P091Mwb2l",
        "outputId": "3bf68113-aa73-470d-d465-c56851794e1f"
      },
      "source": [
        "#Preprocessing Data\n",
        "ds=ds.drop([\"Date\"],axis=1)\n",
        "scaler = StandardScaler()     #Standardize features by removing the mean and scaling to unit variance\n",
        "scaler.fit(ds.drop(['Volume'],axis=1))"
      ],
      "execution_count": null,
      "outputs": [
        {
          "output_type": "execute_result",
          "data": {
            "text/plain": [
              "StandardScaler(copy=True, with_mean=True, with_std=True)"
            ]
          },
          "metadata": {},
          "execution_count": 120
        }
      ]
    },
    {
      "cell_type": "markdown",
      "metadata": {
        "id": "DrdoBnUFdZzE"
      },
      "source": [
        "The standard score of a sample x is calculated as:\n",
        "\n",
        "z = (x - u) / s\n",
        "\n",
        "where u is the mean of the training samples or zero if **with_mean=False**, and s is the standard deviation of the training samples or one if **with_std=False**."
      ]
    },
    {
      "cell_type": "code",
      "metadata": {
        "id": "-ow_QkFGub-7",
        "colab": {
          "base_uri": "https://localhost:8080/"
        },
        "outputId": "0e835fd7-7505-4b13-9381-24bed2c8e212"
      },
      "source": [
        "#Pandas's dataframe into a numpy array\n",
        "X=np.array(scaler.transform(ds.drop(['Volume'],axis=1)))\n",
        "X"
      ],
      "execution_count": null,
      "outputs": [
        {
          "output_type": "execute_result",
          "data": {
            "text/plain": [
              "array([[-0.28641202, -0.28334053, -0.29080043, -0.28725303, -0.28725303],\n",
              "       [-0.28674108, -0.28302678, -0.29069925, -0.28685897, -0.28685897],\n",
              "       [-0.28634621, -0.28324399, -0.29058361, -0.28713481, -0.28713481],\n",
              "       ...,\n",
              "       [ 2.88556192,  2.62479325,  3.04924136,  2.77162367,  2.77162367],\n",
              "       [ 2.77868345,  2.5321258 ,  2.59660692,  2.4291725 ,  2.4291725 ],\n",
              "       [ 2.45059814,  2.33786083,  2.59610103,  2.42759626,  2.42759626]])"
            ]
          },
          "metadata": {},
          "execution_count": 121
        }
      ]
    },
    {
      "cell_type": "code",
      "metadata": {
        "id": "6H_xG109ukbq",
        "colab": {
          "base_uri": "https://localhost:8080/"
        },
        "outputId": "465681d0-755a-4376-8983-fdd5701c5d59"
      },
      "source": [
        "y= np.array(ds['Volume'])\n",
        "y"
      ],
      "execution_count": null,
      "outputs": [
        {
          "output_type": "execute_result",
          "data": {
            "text/plain": [
              "array([1.46360000e+06, 2.21591000e+06, 8.83563000e+05, ...,\n",
              "       8.92763953e+08, 2.24400354e+09, 1.56792422e+09])"
            ]
          },
          "metadata": {},
          "execution_count": 122
        }
      ]
    },
    {
      "cell_type": "code",
      "metadata": {
        "id": "fJn9gxtnupjI"
      },
      "source": [
        "#Splitting the dataset into train and test dataset\n",
        "X_train,X_test,y_train,y_test = train_test_split(X,y,test_size=0.3,random_state=1)"
      ],
      "execution_count": null,
      "outputs": []
    },
    {
      "cell_type": "code",
      "metadata": {
        "colab": {
          "base_uri": "https://localhost:8080/"
        },
        "id": "ZvGmaezrvokD",
        "outputId": "65c6aebc-78b4-4a71-8d71-5ad51895fc9d"
      },
      "source": [
        "#Dimension if the train and test dataset\n",
        "print(f'shape of X_train : {X_train.shape}\\nshape of X_test : {X_test.shape}\\nshape of y_train : {y_train.shape}\\nshape of y_test : {y_test.shape}')"
      ],
      "execution_count": null,
      "outputs": [
        {
          "output_type": "stream",
          "name": "stdout",
          "text": [
            "shape of X_train : (1790, 5)\n",
            "shape of X_test : (768, 5)\n",
            "shape of y_train : (1790,)\n",
            "shape of y_test : (768,)\n"
          ]
        }
      ]
    },
    {
      "cell_type": "markdown",
      "metadata": {
        "id": "IHDsviZmcG59"
      },
      "source": [
        "### 768 is approx. 30% of 2562"
      ]
    },
    {
      "cell_type": "code",
      "metadata": {
        "id": "vg-Ppanqv57w"
      },
      "source": [
        "#Creating the model\n",
        "modelLIN= LinearRegression()\n",
        "modelLIN.fit(X_train,y_train) #Fitting the model\n",
        "Y_predLin=modelLIN.predict(X_test)"
      ],
      "execution_count": null,
      "outputs": []
    },
    {
      "cell_type": "code",
      "metadata": {
        "colab": {
          "base_uri": "https://localhost:8080/"
        },
        "id": "vxy7WNgNkzR-",
        "outputId": "299b0c9a-1f9f-4ed9-bac7-e238ce35b020"
      },
      "source": [
        "print(\"Coefficients: \", modelLIN.coef_)\n",
        "print(\"Intercept: \", modelLIN.intercept_)"
      ],
      "execution_count": null,
      "outputs": [
        {
          "output_type": "stream",
          "name": "stdout",
          "text": [
            "Coefficients:  [ 2.17068039e+09  7.46315398e+08 -1.47226317e+10  6.78181795e+09\n",
            "  6.78181795e+09]\n",
            "Intercept:  514821222.73681194\n"
          ]
        }
      ]
    },
    {
      "cell_type": "code",
      "metadata": {
        "colab": {
          "base_uri": "https://localhost:8080/"
        },
        "id": "7qNFjctzv8V8",
        "outputId": "addb6146-3d91-4b6d-c25a-d790bf360724"
      },
      "source": [
        "print(\"MAE : \",mean_absolute_error(y_test,Y_predLin))   # MAE = Avg of (True values – Predicted values)"
      ],
      "execution_count": null,
      "outputs": [
        {
          "output_type": "stream",
          "name": "stdout",
          "text": [
            "MAE :  281882080.3356578\n"
          ]
        }
      ]
    },
    {
      "cell_type": "markdown",
      "metadata": {
        "id": "QRwQxi0lA0nT"
      },
      "source": [
        "Model doesn't seems to be good"
      ]
    },
    {
      "cell_type": "code",
      "metadata": {
        "id": "mPucqXUr1B4Y",
        "colab": {
          "base_uri": "https://localhost:8080/"
        },
        "outputId": "74329d0b-79b6-42ae-c106-950be138faee"
      },
      "source": [
        "print(\"MSE : \",mean_squared_error(y_test,Y_predLin))"
      ],
      "execution_count": null,
      "outputs": [
        {
          "output_type": "stream",
          "name": "stdout",
          "text": [
            "MSE :  2.5455270332513213e+18\n"
          ]
        }
      ]
    },
    {
      "cell_type": "markdown",
      "metadata": {
        "id": "9hgZ8uXIAJA3"
      },
      "source": [
        "Only 73.6% of the variance in **Y** is explaines by the variance of **X**"
      ]
    },
    {
      "cell_type": "markdown",
      "metadata": {
        "id": "N-DHbS9H1CfP"
      },
      "source": [
        "MSE is calculated by taking the average of the square of the difference between the original and predicted values of the data.\n",
        "\n",
        "Hence, \n",
        "MSE = \n",
        "\n",
        "![1561476739-55378.png](data:image/png;base64,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)"
      ]
    },
    {
      "cell_type": "code",
      "metadata": {
        "colab": {
          "base_uri": "https://localhost:8080/"
        },
        "id": "ItagcgvCAe3S",
        "outputId": "112b9e9e-0377-4809-9f71-2dddcef8d8a5"
      },
      "source": [
        "print(\"Coefficient of Determination(R-squared value): \",r2_score(y_test,Y_predLin))"
      ],
      "execution_count": null,
      "outputs": [
        {
          "output_type": "stream",
          "name": "stdout",
          "text": [
            "Coefficient of Determination(R-squared value):  0.736733829221831\n"
          ]
        }
      ]
    },
    {
      "cell_type": "code",
      "metadata": {
        "colab": {
          "base_uri": "https://localhost:8080/",
          "height": 419
        },
        "id": "_oJYhJvLxpaF",
        "outputId": "6b084889-b237-4432-f0f9-cc7d95d45581"
      },
      "source": [
        "pd.DataFrame({\"Real Prediction\":y_test,\"Model Prediction\":Y_predLin})"
      ],
      "execution_count": null,
      "outputs": [
        {
          "output_type": "execute_result",
          "data": {
            "text/html": [
              "<div>\n",
              "<style scoped>\n",
              "    .dataframe tbody tr th:only-of-type {\n",
              "        vertical-align: middle;\n",
              "    }\n",
              "\n",
              "    .dataframe tbody tr th {\n",
              "        vertical-align: top;\n",
              "    }\n",
              "\n",
              "    .dataframe thead th {\n",
              "        text-align: right;\n",
              "    }\n",
              "</style>\n",
              "<table border=\"1\" class=\"dataframe\">\n",
              "  <thead>\n",
              "    <tr style=\"text-align: right;\">\n",
              "      <th></th>\n",
              "      <th>Real Prediction</th>\n",
              "      <th>Model Prediction</th>\n",
              "    </tr>\n",
              "  </thead>\n",
              "  <tbody>\n",
              "    <tr>\n",
              "      <th>0</th>\n",
              "      <td>1.319560e+07</td>\n",
              "      <td>1.251211e+08</td>\n",
              "    </tr>\n",
              "    <tr>\n",
              "      <th>1</th>\n",
              "      <td>2.002680e+05</td>\n",
              "      <td>6.468961e+07</td>\n",
              "    </tr>\n",
              "    <tr>\n",
              "      <th>2</th>\n",
              "      <td>2.667160e+08</td>\n",
              "      <td>1.926944e+08</td>\n",
              "    </tr>\n",
              "    <tr>\n",
              "      <th>3</th>\n",
              "      <td>4.281080e+05</td>\n",
              "      <td>6.421683e+07</td>\n",
              "    </tr>\n",
              "    <tr>\n",
              "      <th>4</th>\n",
              "      <td>1.233383e+09</td>\n",
              "      <td>5.375364e+08</td>\n",
              "    </tr>\n",
              "    <tr>\n",
              "      <th>...</th>\n",
              "      <td>...</td>\n",
              "      <td>...</td>\n",
              "    </tr>\n",
              "    <tr>\n",
              "      <th>763</th>\n",
              "      <td>2.427770e+05</td>\n",
              "      <td>6.463518e+07</td>\n",
              "    </tr>\n",
              "    <tr>\n",
              "      <th>764</th>\n",
              "      <td>2.586305e+08</td>\n",
              "      <td>1.224326e+08</td>\n",
              "    </tr>\n",
              "    <tr>\n",
              "      <th>765</th>\n",
              "      <td>1.030280e+06</td>\n",
              "      <td>6.820311e+07</td>\n",
              "    </tr>\n",
              "    <tr>\n",
              "      <th>766</th>\n",
              "      <td>2.033960e+05</td>\n",
              "      <td>6.461947e+07</td>\n",
              "    </tr>\n",
              "    <tr>\n",
              "      <th>767</th>\n",
              "      <td>1.872479e+07</td>\n",
              "      <td>7.580387e+07</td>\n",
              "    </tr>\n",
              "  </tbody>\n",
              "</table>\n",
              "<p>768 rows × 2 columns</p>\n",
              "</div>"
            ],
            "text/plain": [
              "     Real Prediction  Model Prediction\n",
              "0       1.319560e+07      1.251211e+08\n",
              "1       2.002680e+05      6.468961e+07\n",
              "2       2.667160e+08      1.926944e+08\n",
              "3       4.281080e+05      6.421683e+07\n",
              "4       1.233383e+09      5.375364e+08\n",
              "..               ...               ...\n",
              "763     2.427770e+05      6.463518e+07\n",
              "764     2.586305e+08      1.224326e+08\n",
              "765     1.030280e+06      6.820311e+07\n",
              "766     2.033960e+05      6.461947e+07\n",
              "767     1.872479e+07      7.580387e+07\n",
              "\n",
              "[768 rows x 2 columns]"
            ]
          },
          "metadata": {},
          "execution_count": 130
        }
      ]
    },
    {
      "cell_type": "markdown",
      "metadata": {
        "id": "LVDoXLWOhKeg"
      },
      "source": [
        "# Different types of regression method\n",
        "## 1. Decision Tree Regression\n"
      ]
    },
    {
      "cell_type": "code",
      "metadata": {
        "id": "b-DJq3IjndI6"
      },
      "source": [
        "modelTree = DecisionTreeRegressor()\n",
        "modelTree.fit(X_train,y_train)\n",
        "Y_predTree= modelTree.predict(X_test)"
      ],
      "execution_count": null,
      "outputs": []
    },
    {
      "cell_type": "code",
      "metadata": {
        "colab": {
          "base_uri": "https://localhost:8080/"
        },
        "id": "Xvu-CyKGnq56",
        "outputId": "e970a811-7006-4201-af7e-a0d7ea070d08"
      },
      "source": [
        "print(\"MAE : \",mean_absolute_error(y_test, Y_predTree))\n",
        "print(\"MSE : \",mean_squared_error(y_test,Y_predTree))\n",
        "print(\"Coefficient of Determination(R squared value): \",r2_score(y_test,Y_predTree))"
      ],
      "execution_count": null,
      "outputs": [
        {
          "output_type": "stream",
          "name": "stdout",
          "text": [
            "MAE :  0.0002970128458102525\n",
            "MSE :  1.826553811028686e-06\n",
            "Coefficient of Determination(R squared value):  0.9995939681938799\n"
          ]
        }
      ]
    },
    {
      "cell_type": "code",
      "metadata": {
        "colab": {
          "base_uri": "https://localhost:8080/",
          "height": 419
        },
        "id": "K45oPxSNnuui",
        "outputId": "54739c40-cd1c-4fb6-8137-e3e971f78a25"
      },
      "source": [
        "pd.DataFrame({\"Real Prediction\":y_test,\"Model Prediction\":Y_predTree})"
      ],
      "execution_count": null,
      "outputs": [
        {
          "output_type": "execute_result",
          "data": {
            "text/html": [
              "<div>\n",
              "<style scoped>\n",
              "    .dataframe tbody tr th:only-of-type {\n",
              "        vertical-align: middle;\n",
              "    }\n",
              "\n",
              "    .dataframe tbody tr th {\n",
              "        vertical-align: top;\n",
              "    }\n",
              "\n",
              "    .dataframe thead th {\n",
              "        text-align: right;\n",
              "    }\n",
              "</style>\n",
              "<table border=\"1\" class=\"dataframe\">\n",
              "  <thead>\n",
              "    <tr style=\"text-align: right;\">\n",
              "      <th></th>\n",
              "      <th>Real Prediction</th>\n",
              "      <th>Model Prediction</th>\n",
              "    </tr>\n",
              "  </thead>\n",
              "  <tbody>\n",
              "    <tr>\n",
              "      <th>0</th>\n",
              "      <td>0.003543</td>\n",
              "      <td>0.003369</td>\n",
              "    </tr>\n",
              "    <tr>\n",
              "      <th>1</th>\n",
              "      <td>0.000227</td>\n",
              "      <td>0.000211</td>\n",
              "    </tr>\n",
              "    <tr>\n",
              "      <th>2</th>\n",
              "      <td>0.004204</td>\n",
              "      <td>0.004267</td>\n",
              "    </tr>\n",
              "    <tr>\n",
              "      <th>3</th>\n",
              "      <td>0.000192</td>\n",
              "      <td>0.000211</td>\n",
              "    </tr>\n",
              "    <tr>\n",
              "      <th>4</th>\n",
              "      <td>0.055918</td>\n",
              "      <td>0.056383</td>\n",
              "    </tr>\n",
              "    <tr>\n",
              "      <th>...</th>\n",
              "      <td>...</td>\n",
              "      <td>...</td>\n",
              "    </tr>\n",
              "    <tr>\n",
              "      <th>507</th>\n",
              "      <td>0.003221</td>\n",
              "      <td>0.003369</td>\n",
              "    </tr>\n",
              "    <tr>\n",
              "      <th>508</th>\n",
              "      <td>0.002706</td>\n",
              "      <td>0.002451</td>\n",
              "    </tr>\n",
              "    <tr>\n",
              "      <th>509</th>\n",
              "      <td>0.000087</td>\n",
              "      <td>0.000211</td>\n",
              "    </tr>\n",
              "    <tr>\n",
              "      <th>510</th>\n",
              "      <td>0.002795</td>\n",
              "      <td>0.002451</td>\n",
              "    </tr>\n",
              "    <tr>\n",
              "      <th>511</th>\n",
              "      <td>0.000278</td>\n",
              "      <td>0.000211</td>\n",
              "    </tr>\n",
              "  </tbody>\n",
              "</table>\n",
              "<p>512 rows × 2 columns</p>\n",
              "</div>"
            ],
            "text/plain": [
              "     Real Prediction  Model Prediction\n",
              "0           0.003543          0.003369\n",
              "1           0.000227          0.000211\n",
              "2           0.004204          0.004267\n",
              "3           0.000192          0.000211\n",
              "4           0.055918          0.056383\n",
              "..               ...               ...\n",
              "507         0.003221          0.003369\n",
              "508         0.002706          0.002451\n",
              "509         0.000087          0.000211\n",
              "510         0.002795          0.002451\n",
              "511         0.000278          0.000211\n",
              "\n",
              "[512 rows x 2 columns]"
            ]
          },
          "metadata": {},
          "execution_count": 167
        }
      ]
    },
    {
      "cell_type": "markdown",
      "metadata": {
        "id": "J7VIXevnRJp4"
      },
      "source": [
        "## 2. Random forest Regression"
      ]
    },
    {
      "cell_type": "code",
      "metadata": {
        "id": "MqAec2CHRavH"
      },
      "source": [
        "modelEns = RandomForestRegressor()\n",
        "modelEns.fit(X_train,y_train)\n",
        "Y_predEns = modelEns.predict(X_test)"
      ],
      "execution_count": null,
      "outputs": []
    },
    {
      "cell_type": "code",
      "metadata": {
        "colab": {
          "base_uri": "https://localhost:8080/"
        },
        "id": "vgYDsjLPSrHy",
        "outputId": "833863ce-9a03-4672-a371-279790b6415b"
      },
      "source": [
        "print(\"MSE : \",mean_absolute_error(y_test, Y_predEns))\n",
        "print(\"MAE : \",mean_squared_error(y_test,Y_predEns))\n",
        "print(\"Coefficient of Determination(R squared value): \",r2_score(y_test,Y_predEns))"
      ],
      "execution_count": null,
      "outputs": [
        {
          "output_type": "stream",
          "name": "stdout",
          "text": [
            "MSE :  0.0002506041395654957\n",
            "MAE :  1.8320420274746308e-06\n",
            "Coefficient of Determination(R squared value):  0.9995927481967343\n"
          ]
        }
      ]
    },
    {
      "cell_type": "code",
      "metadata": {
        "colab": {
          "base_uri": "https://localhost:8080/",
          "height": 419
        },
        "id": "7dy9MK1nS0Ug",
        "outputId": "107b9282-eee1-466b-f990-696cb00d19ed"
      },
      "source": [
        "pd.DataFrame({\"Real Prediction\":y_test,\"Model Prediction\":Y_predEns})"
      ],
      "execution_count": null,
      "outputs": [
        {
          "output_type": "execute_result",
          "data": {
            "text/html": [
              "<div>\n",
              "<style scoped>\n",
              "    .dataframe tbody tr th:only-of-type {\n",
              "        vertical-align: middle;\n",
              "    }\n",
              "\n",
              "    .dataframe tbody tr th {\n",
              "        vertical-align: top;\n",
              "    }\n",
              "\n",
              "    .dataframe thead th {\n",
              "        text-align: right;\n",
              "    }\n",
              "</style>\n",
              "<table border=\"1\" class=\"dataframe\">\n",
              "  <thead>\n",
              "    <tr style=\"text-align: right;\">\n",
              "      <th></th>\n",
              "      <th>Real Prediction</th>\n",
              "      <th>Model Prediction</th>\n",
              "    </tr>\n",
              "  </thead>\n",
              "  <tbody>\n",
              "    <tr>\n",
              "      <th>0</th>\n",
              "      <td>0.003543</td>\n",
              "      <td>0.003342</td>\n",
              "    </tr>\n",
              "    <tr>\n",
              "      <th>1</th>\n",
              "      <td>0.000227</td>\n",
              "      <td>0.000222</td>\n",
              "    </tr>\n",
              "    <tr>\n",
              "      <th>2</th>\n",
              "      <td>0.004204</td>\n",
              "      <td>0.004339</td>\n",
              "    </tr>\n",
              "    <tr>\n",
              "      <th>3</th>\n",
              "      <td>0.000192</td>\n",
              "      <td>0.000222</td>\n",
              "    </tr>\n",
              "    <tr>\n",
              "      <th>4</th>\n",
              "      <td>0.055918</td>\n",
              "      <td>0.055872</td>\n",
              "    </tr>\n",
              "    <tr>\n",
              "      <th>...</th>\n",
              "      <td>...</td>\n",
              "      <td>...</td>\n",
              "    </tr>\n",
              "    <tr>\n",
              "      <th>507</th>\n",
              "      <td>0.003221</td>\n",
              "      <td>0.003309</td>\n",
              "    </tr>\n",
              "    <tr>\n",
              "      <th>508</th>\n",
              "      <td>0.002706</td>\n",
              "      <td>0.002454</td>\n",
              "    </tr>\n",
              "    <tr>\n",
              "      <th>509</th>\n",
              "      <td>0.000087</td>\n",
              "      <td>0.000222</td>\n",
              "    </tr>\n",
              "    <tr>\n",
              "      <th>510</th>\n",
              "      <td>0.002795</td>\n",
              "      <td>0.002547</td>\n",
              "    </tr>\n",
              "    <tr>\n",
              "      <th>511</th>\n",
              "      <td>0.000278</td>\n",
              "      <td>0.000222</td>\n",
              "    </tr>\n",
              "  </tbody>\n",
              "</table>\n",
              "<p>512 rows × 2 columns</p>\n",
              "</div>"
            ],
            "text/plain": [
              "     Real Prediction  Model Prediction\n",
              "0           0.003543          0.003342\n",
              "1           0.000227          0.000222\n",
              "2           0.004204          0.004339\n",
              "3           0.000192          0.000222\n",
              "4           0.055918          0.055872\n",
              "..               ...               ...\n",
              "507         0.003221          0.003309\n",
              "508         0.002706          0.002454\n",
              "509         0.000087          0.000222\n",
              "510         0.002795          0.002547\n",
              "511         0.000278          0.000222\n",
              "\n",
              "[512 rows x 2 columns]"
            ]
          },
          "metadata": {},
          "execution_count": 146
        }
      ]
    },
    {
      "cell_type": "markdown",
      "metadata": {
        "id": "lbOuqnzgwgkj"
      },
      "source": [
        "# Factor Analysis\n"
      ]
    },
    {
      "cell_type": "markdown",
      "metadata": {
        "id": "T1VIiVGrXyow"
      },
      "source": [
        "### **Kaiser-Meyer-Olkin (KMO)**\n",
        "This Test measures the suitability of data for factor analysis. It determines the adequacy for each observed variable and for the complete model. KMO estimates the proportion of variance among all the observed variable. Lower proportion id more suitable for factor analysis. KMO values range between 0 and 1. Value of KMO less than 0.6 is considered inadequate."
      ]
    },
    {
      "cell_type": "code",
      "metadata": {
        "colab": {
          "base_uri": "https://localhost:8080/"
        },
        "id": "YtmWIDXaJrAe",
        "outputId": "0b791160-6639-4c4f-fb2b-ab2affc1960f"
      },
      "source": [
        "kmo_all,kmo_model=calculate_kmo(ds)\n",
        "print(\"KMO Value: \", kmo_model)"
      ],
      "execution_count": null,
      "outputs": [
        {
          "output_type": "stream",
          "name": "stdout",
          "text": [
            "KMO Value:  0.44321460414509595\n"
          ]
        }
      ]
    },
    {
      "cell_type": "markdown",
      "metadata": {
        "id": "EdNOFmn-YBIv"
      },
      "source": [
        "### The overall KMO for our data is 0.44, which is means that we cannot perform Factor Analysis on our dataset"
      ]
    },
    {
      "cell_type": "markdown",
      "metadata": {
        "id": "si-qKEfmZ0wK"
      },
      "source": [
        "# PCA"
      ]
    },
    {
      "cell_type": "code",
      "metadata": {
        "colab": {
          "base_uri": "https://localhost:8080/"
        },
        "id": "VnOZ91iWZ3sd",
        "outputId": "b6304d5e-8ff4-40bf-ec53-c6bb47b1a695"
      },
      "source": [
        "covariance_matrix = ds.cov()\n",
        "covariance_matrix"
      ],
      "execution_count": null,
      "outputs": [
        {
          "output_type": "execute_result",
          "data": {
            "text/html": [
              "<div>\n",
              "<style scoped>\n",
              "    .dataframe tbody tr th:only-of-type {\n",
              "        vertical-align: middle;\n",
              "    }\n",
              "\n",
              "    .dataframe tbody tr th {\n",
              "        vertical-align: top;\n",
              "    }\n",
              "\n",
              "    .dataframe thead th {\n",
              "        text-align: right;\n",
              "    }\n",
              "</style>\n",
              "<table border=\"1\" class=\"dataframe\">\n",
              "  <thead>\n",
              "    <tr style=\"text-align: right;\">\n",
              "      <th></th>\n",
              "      <th>Open</th>\n",
              "      <th>High</th>\n",
              "      <th>Low</th>\n",
              "      <th>Close</th>\n",
              "      <th>Adj Close</th>\n",
              "      <th>Volume</th>\n",
              "    </tr>\n",
              "  </thead>\n",
              "  <tbody>\n",
              "    <tr>\n",
              "      <th>Open</th>\n",
              "      <td>5.774328e-03</td>\n",
              "      <td>6.258329e-03</td>\n",
              "      <td>5.222559e-03</td>\n",
              "      <td>5.737574e-03</td>\n",
              "      <td>5.737574e-03</td>\n",
              "      <td>1.396058e+08</td>\n",
              "    </tr>\n",
              "    <tr>\n",
              "      <th>High</th>\n",
              "      <td>6.258329e-03</td>\n",
              "      <td>6.869493e-03</td>\n",
              "      <td>5.655391e-03</td>\n",
              "      <td>6.277512e-03</td>\n",
              "      <td>6.277512e-03</td>\n",
              "      <td>1.667488e+08</td>\n",
              "    </tr>\n",
              "    <tr>\n",
              "      <th>Low</th>\n",
              "      <td>5.222559e-03</td>\n",
              "      <td>5.655391e-03</td>\n",
              "      <td>4.788279e-03</td>\n",
              "      <td>5.239391e-03</td>\n",
              "      <td>5.239391e-03</td>\n",
              "      <td>1.209854e+08</td>\n",
              "    </tr>\n",
              "    <tr>\n",
              "      <th>Close</th>\n",
              "      <td>5.737574e-03</td>\n",
              "      <td>6.277512e-03</td>\n",
              "      <td>5.239391e-03</td>\n",
              "      <td>5.798129e-03</td>\n",
              "      <td>5.798129e-03</td>\n",
              "      <td>1.474768e+08</td>\n",
              "    </tr>\n",
              "    <tr>\n",
              "      <th>Adj Close</th>\n",
              "      <td>5.737574e-03</td>\n",
              "      <td>6.277512e-03</td>\n",
              "      <td>5.239391e-03</td>\n",
              "      <td>5.798129e-03</td>\n",
              "      <td>5.798129e-03</td>\n",
              "      <td>1.474768e+08</td>\n",
              "    </tr>\n",
              "    <tr>\n",
              "      <th>Volume</th>\n",
              "      <td>1.396058e+08</td>\n",
              "      <td>1.667488e+08</td>\n",
              "      <td>1.209854e+08</td>\n",
              "      <td>1.474768e+08</td>\n",
              "      <td>1.474768e+08</td>\n",
              "      <td>8.642384e+18</td>\n",
              "    </tr>\n",
              "  </tbody>\n",
              "</table>\n",
              "</div>"
            ],
            "text/plain": [
              "                   Open          High  ...     Adj Close        Volume\n",
              "Open       5.774328e-03  6.258329e-03  ...  5.737574e-03  1.396058e+08\n",
              "High       6.258329e-03  6.869493e-03  ...  6.277512e-03  1.667488e+08\n",
              "Low        5.222559e-03  5.655391e-03  ...  5.239391e-03  1.209854e+08\n",
              "Close      5.737574e-03  6.277512e-03  ...  5.798129e-03  1.474768e+08\n",
              "Adj Close  5.737574e-03  6.277512e-03  ...  5.798129e-03  1.474768e+08\n",
              "Volume     1.396058e+08  1.667488e+08  ...  1.474768e+08  8.642384e+18\n",
              "\n",
              "[6 rows x 6 columns]"
            ]
          },
          "metadata": {},
          "execution_count": 148
        }
      ]
    },
    {
      "cell_type": "code",
      "metadata": {
        "colab": {
          "base_uri": "https://localhost:8080/"
        },
        "id": "CGQxwLDWZ6Fp",
        "outputId": "c1a7e51b-8656-4888-a74c-c9d73f3a05f9"
      },
      "source": [
        "eigenValues, eigenVectors = np.linalg.eig(covariance_matrix)\n",
        "print(f\"Eigen Values: {eigenValues}\")\n",
        "print(f\"\\nEigen Vectors: {eigenVectors}\")"
      ],
      "execution_count": null,
      "outputs": [
        {
          "output_type": "stream",
          "name": "stdout",
          "text": [
            "Eigen Values: [ 1.02400000e+03  8.64238424e+18  1.32468760e-02  4.81635067e-05\n",
            "  1.48071316e-05 -6.64440388e-22]\n",
            "\n",
            "Eigen Vectors: [[-1.00000000e+00 -1.61536202e-11  6.61651012e-06 -2.51891486e-08\n",
            "  -1.72131556e-08  2.61382218e-25]\n",
            " [ 3.11669889e-22 -1.92941202e-11 -5.22594562e-01  8.42075244e-01\n",
            "   1.33652095e-01 -9.79150978e-18]\n",
            " [ 2.26135738e-22 -1.39990749e-11 -4.81980187e-01 -4.20893270e-01\n",
            "   7.68362262e-01  1.12237806e-17]\n",
            " [ 2.75651325e-22 -1.70643684e-11 -4.97287655e-01 -2.38493332e-01\n",
            "  -4.42581377e-01 -7.07106781e-01]\n",
            " [ 2.75651325e-22 -1.70643684e-11 -4.97287655e-01 -2.38493332e-01\n",
            "  -4.42581377e-01  7.07106781e-01]\n",
            " [ 1.61536202e-11 -1.00000000e+00  3.38020990e-11 -2.21565129e-12\n",
            "   1.76969088e-12  3.15461085e-27]]\n"
          ]
        }
      ]
    },
    {
      "cell_type": "code",
      "metadata": {
        "colab": {
          "base_uri": "https://localhost:8080/"
        },
        "id": "Ty4HCKkpagXw",
        "outputId": "db47608c-3364-441b-bc2b-f4a8ec0e7d55"
      },
      "source": [
        "total_sum = sum(eigenValues)\n",
        "variablesExplained = [(i/total_sum) for i in sorted(eigenValues, reverse = True)]\n",
        "variablesExplained"
      ],
      "execution_count": null,
      "outputs": [
        {
          "output_type": "execute_result",
          "data": {
            "text/plain": [
              "[0.9999999999999999,\n",
              " 1.184858218791592e-16,\n",
              " 1.5327802648775163e-21,\n",
              " 5.572942066594402e-24,\n",
              " 1.713315583885163e-24,\n",
              " -7.688160693699263e-41]"
            ]
          },
          "metadata": {},
          "execution_count": 150
        }
      ]
    },
    {
      "cell_type": "markdown",
      "metadata": {
        "id": "OyzUcvPBjIXW"
      },
      "source": [
        "### The first variable explains 99.99% from the total dataset"
      ]
    },
    {
      "cell_type": "markdown",
      "metadata": {
        "id": "734s3bs9PvGx"
      },
      "source": [
        "# Hierarchical Clustering"
      ]
    },
    {
      "cell_type": "code",
      "metadata": {
        "id": "590ujjT9PzeU"
      },
      "source": [
        "ds = make_blobs(n_samples=300, n_features=2, centers=4, cluster_std=1.6, random_state=50)"
      ],
      "execution_count": null,
      "outputs": []
    },
    {
      "cell_type": "code",
      "metadata": {
        "id": "ef-EJqjITiq2"
      },
      "source": [
        "ds\n",
        "points = ds[0]"
      ],
      "execution_count": null,
      "outputs": []
    },
    {
      "cell_type": "code",
      "metadata": {
        "colab": {
          "base_uri": "https://localhost:8080/"
        },
        "id": "YQp2-SdVTj1N",
        "outputId": "5350ea23-5668-4a65-9f1e-2cb59d1443c2"
      },
      "source": [
        "dendrogram = sch.dendrogram(sch.linkage(points, method='ward'))"
      ],
      "execution_count": null,
      "outputs": [
        {
          "output_type": "display_data",
          "data": {
            "image/png": "[encoded data removed]",
            "text/plain": [
              "<Figure size 432x288 with 1 Axes>"
            ]
          },
          "metadata": {
            "needs_background": "light"
          }
        }
      ]
    },
    {
      "cell_type": "code",
      "metadata": {
        "colab": {
          "base_uri": "https://localhost:8080/"
        },
        "id": "T2gi6U6jUGCy",
        "outputId": "b7ca1b44-78fb-4a67-9340-4694df8bfbdd"
      },
      "source": [
        "plt.scatter(ds[0][:,0], ds[0][:,1])"
      ],
      "execution_count": null,
      "outputs": [
        {
          "output_type": "execute_result",
          "data": {
            "text/plain": [
              "<matplotlib.collections.PathCollection at 0x7f24459cf0d0>"
            ]
          },
          "metadata": {},
          "execution_count": 154
        },
        {
          "output_type": "display_data",
          "data": {
            "image/png": "[encoded data removed]",
            "text/plain": [
              "<Figure size 432x288 with 1 Axes>"
            ]
          },
          "metadata": {
            "needs_background": "light"
          }
        }
      ]
    },
    {
      "cell_type": "code",
      "metadata": {
        "id": "q1oFE322UsnR"
      },
      "source": [
        "#Performing the actual clustering\n",
        "hc = AgglomerativeClustering(n_clusters=4, affinity= 'euclidean', linkage= 'ward')"
      ],
      "execution_count": null,
      "outputs": []
    },
    {
      "cell_type": "code",
      "metadata": {
        "id": "H5gy1ZL-XpMh"
      },
      "source": [
        "y_hc = hc.fit_predict(points)"
      ],
      "execution_count": null,
      "outputs": []
    },
    {
      "cell_type": "code",
      "metadata": {
        "colab": {
          "base_uri": "https://localhost:8080/"
        },
        "id": "Y9Ib6CUkYI1R",
        "outputId": "43c87fb7-6042-4a67-8d63-82c129d40cb7"
      },
      "source": [
        "plt.scatter(points[y_hc==0,0], points[y_hc==0,1], s= 100, c='red')    #Cluster 1\n",
        "plt.scatter(points[y_hc==1,0], points[y_hc==1,1], s= 100, c='blue')   #Cluster 2\n",
        "plt.scatter(points[y_hc==2,0], points[y_hc==2,1], s= 100, c='yellow')    #Cluster 3\n",
        "plt.scatter(points[y_hc==3,0], points[y_hc==3,1], s= 100, c='green')    #Cluster 4"
      ],
      "execution_count": null,
      "outputs": [
        {
          "output_type": "execute_result",
          "data": {
            "text/plain": [
              "<matplotlib.collections.PathCollection at 0x7f2445995e90>"
            ]
          },
          "metadata": {},
          "execution_count": 157
        },
        {
          "output_type": "display_data",
          "data": {
            "image/png": "[encoded data removed]",
            "text/plain": [
              "<Figure size 432x288 with 1 Axes>"
            ]
          },
          "metadata": {
            "needs_background": "light"
          }
        }
      ]
    },
    {
      "cell_type": "markdown",
      "metadata": {
        "id": "LT6XfRaSbKIZ"
      },
      "source": [
        "## 4 Clusters are made here"
      ]
    }
  ]
}